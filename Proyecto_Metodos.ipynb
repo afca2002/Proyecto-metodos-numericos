{
 "cells": [
  {
   "cell_type": "markdown",
   "metadata": {},
   "source": [
    "# Descripción\n",
    "Un avión vuela con velocidad \n",
    "$V\n",
    " a \n",
    "H\n",
    "a$\n",
    " metros del suelo en dirección a un cañón como se muestra en la figura.\n",
    "\n",
    "El cañón tiene forma de trapecio isósceles invertido, de una altura \n",
    "$H\n",
    "c$\n",
    ", largo \n",
    "$L$\n",
    " y ángulo \n",
    "$α$\n",
    " con respecto al horizonte.\n",
    "\n",
    "Cuando se encuentra a una distancia \n",
    "$d$\n",
    " del borde del cañón, el avión suelta una bomba.\n",
    "\n"
   ]
  },
  {
   "cell_type": "code",
   "execution_count": null,
   "metadata": {},
   "outputs": [],
   "source": []
  }
 ],
 "metadata": {
  "language_info": {
   "name": "python"
  }
 },
 "nbformat": 4,
 "nbformat_minor": 2
}
